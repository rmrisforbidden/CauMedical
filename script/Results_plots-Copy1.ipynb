{
 "cells": [
  {
   "cell_type": "code",
   "execution_count": 3,
   "id": "daf09040",
   "metadata": {},
   "outputs": [
    {
     "name": "stdout",
     "output_type": "stream",
     "text": [
      "/mnt/ssd/jj/Research/cauMedical/lightning_bolts/script\r\n"
     ]
    }
   ],
   "source": [
    "import numpy as np\n",
    "import matplotlib.pyplot as plt\n",
    "import sys\n",
    "from torch.utils.data import Dataset\n",
    "import scipy.io\n",
    "import torch\n",
    "import pytorch_lightning as pl\n",
    "!pwd\n",
    "\n",
    "sys.path.append('../')\n",
    "from module.Pingfan_ver2_datamodule import MRIDataModule\n",
    "from script.trainer import our_GRU, model_load_matcher\n",
    "\n",
    "import pwd\n",
    "\n",
    "from jinja2 import ModuleLoader\n",
    "import pytorch_lightning as pl\n",
    "import torch\n",
    "import torchvision\n",
    "from torch.utils.data import random_split, DataLoader, Dataset\n",
    "import sys\n",
    "import mat73\n",
    "import h5py\n",
    "from torch.nn import functional as F\n",
    "\n",
    "from Bloch_decoder.utils.generate_RF_TR import generate_RF_TR"
   ]
  },
  {
   "cell_type": "markdown",
   "id": "4ae20743",
   "metadata": {},
   "source": [
    "# Variable setting"
   ]
  },
  {
   "cell_type": "code",
   "execution_count": 4,
   "id": "b9ad2625",
   "metadata": {},
   "outputs": [],
   "source": [
    "exp_id = 'SPLIT-274'\n",
    "test_data_type = 'real'"
   ]
  },
  {
   "cell_type": "markdown",
   "id": "db1ad0ff",
   "metadata": {},
   "source": [
    "# Data module"
   ]
  },
  {
   "cell_type": "code",
   "execution_count": 5,
   "id": "947598ea",
   "metadata": {},
   "outputs": [],
   "source": [
    "class MRIDataModule(pl.LightningDataModule):\n",
    "    def __init__(\n",
    "        self,\n",
    "        batch_size: int = 1,\n",
    "        num_workers=0,\n",
    "        train_data_type=\"seq\",  \n",
    "        test_data_type=\"real\", \n",
    "        subsamp=1,\n",
    "        seq_jump=5,\n",
    "        is_input_RF=0,\n",
    "        need_T1T2_logscale=False,\n",
    "        need_TETR_second=False,\n",
    "        need_RF_degree=False,\n",
    "    ):  # img_cnn, img_seq, seq\n",
    "        super().__init__()\n",
    "        self.batch_size = batch_size\n",
    "        self.num_workers = num_workers\n",
    "        self.train_data_type = train_data_type\n",
    "        self.testdata_type = test_data_type\n",
    "        self.subsamp = subsamp\n",
    "        self.seq_jump = seq_jump\n",
    "        self.need_T1T2_logscale = need_T1T2_logscale\n",
    "        self.need_TETR_second = need_TETR_second\n",
    "        self.need_RF_degree = need_RF_degree\n",
    "        self.datamodule = PingSeqDataset\n",
    "\n",
    "        self.n_img_tr = 80 * 128 * 128\n",
    "        self.n_img_te = 22 * 128 * 128\n",
    "\n",
    "    def prepare_data(self):\n",
    "        return\n",
    "\n",
    "    def setup(self, stage=None):\n",
    "        # Trainset\n",
    "        if \"seqTr\" in self.train_data_type:\n",
    "            self.trainset = self.datamodule(\n",
    "                mode=\"train\",\n",
    "                is_split_range_T1T2=True,\n",
    "                need_T1T2_logscale=self.need_T1T2_logscale,\n",
    "                need_TETR_second=self.need_TETR_second,\n",
    "                need_RF_degree=self.need_RF_degree,\n",
    "            )\n",
    "        elif \"seqAll\" in self.train_data_type:\n",
    "            self.trainset = self.datamodule(\n",
    "                mode=\"none\",\n",
    "                is_split_range_T1T2=False,\n",
    "                need_T1T2_logscale=self.need_T1T2_logscale,\n",
    "                need_TETR_second=self.need_TETR_second,\n",
    "                need_RF_degree=self.need_RF_degree,\n",
    "            )\n",
    "        elif \"phantomTr\" in self.train_data_type:\n",
    "            self.trainset = PingImgDataset_Phantom(mode=\"train\")\n",
    "        elif \"phantomAll\" in self.train_data_type:\n",
    "            self.trainset = PingImgDataset_Phantom(mode=\"none\")\n",
    "        else:\n",
    "            raise AssertionError(\"Check traindata_type\")\n",
    "\n",
    "        # Testset\n",
    "        if \"seqTe\" in self.testdata_type:\n",
    "            self.testset = self.datamodule(\n",
    "                mode=\"test\",\n",
    "                is_split_range_T1T2=True,\n",
    "                need_T1T2_logscale=self.need_T1T2_logscale,\n",
    "                need_TETR_second=self.need_TETR_second,\n",
    "                need_RF_degree=self.need_RF_degree,\n",
    "            )\n",
    "        elif \"phantomTe\" in self.testdata_type:\n",
    "            self.testset = PingImgDataset_Phantom(mode=\"test\")\n",
    "        elif \"phantomAll\" in self.testdata_type:\n",
    "            self.testset = PingImgDataset_Phantom(mode=\"none\")\n",
    "        elif \"real\" in self.testdata_type:\n",
    "            self.testset = PingImgDataset_real(\n",
    "                need_T1T2_logscale=self.need_T1T2_logscale,\n",
    "                need_TETR_second=self.need_TETR_second,\n",
    "                need_RF_degree=self.need_RF_degree,\n",
    "            )\n",
    "        else:\n",
    "            raise AssertionError(\"Check testdata_type\")\n",
    "\n",
    "    def train_dataloader(self):\n",
    "        return DataLoader(self.trainset, batch_size=self.batch_size, shuffle=True, num_workers=self.num_workers)\n",
    "\n",
    "    def val_dataloader(self):\n",
    "        return DataLoader(self.testset, batch_size=self.batch_size, shuffle=False, num_workers=self.num_workers)\n",
    "\n",
    "    def test_dataloader(self):\n",
    "        return DataLoader(self.testset, batch_size=self.batch_size, shuffle=False, num_workers=self.num_workers)\n",
    "\n",
    "    def predict_dataloader(self):\n",
    "        return DataLoader(self.testset, batch_size=self.batch_size, shuffle=False, num_workers=self.num_workers)\n",
    "\n",
    "\n",
    "class PingSeqDataset(Dataset):\n",
    "    # Input : T1T2, RF, TE, TR\n",
    "    def __init__(\n",
    "        self,\n",
    "        mode=\"train\",\n",
    "        is_split_range_T1T2=True,\n",
    "        need_T1T2_logscale=False,\n",
    "        need_TETR_second=False,\n",
    "        need_RF_degree=False,\n",
    "    ):\n",
    "        \"\"\"\n",
    "        Approx RNN input : (need_T1T2_logscale=True, need_TETR_second=True, need_RF_degree=True)\n",
    "        Our Bloch decoder input : (need_T1T2_logscale=False, need_TETR_second=False, need_RF_degree=False)\n",
    "        This data : (need_T1T2_logscale=False, need_TETR_second=False, need_RF_degree=False)\n",
    "        \"\"\"\n",
    "\n",
    "        L = 1000\n",
    "        subsamp = 1\n",
    "        len_seq = L // subsamp\n",
    "        T1_condition_threshold = 2500\n",
    "        T2_condition_threshold = 1000\n",
    "        MRFData = scipy.io.loadmat(\n",
    "            \"/mnt/ssd/jj/Research/cauMedical/lightning_bolts/Bloch_decoder/data/Pingfan/D_LUT_L1000_TE10_Start1_Train.mat\"\n",
    "        )\n",
    "        MRFData_Val = scipy.io.loadmat(\n",
    "            \"/mnt/ssd/jj/Research/cauMedical/lightning_bolts/Bloch_decoder/data/Pingfan/D_LUT_L1000_TE10_Start5_Val.mat\"\n",
    "        )  #\n",
    "        self.is_split_range_T1T2 = is_split_range_T1T2 if \"none\" not in mode else False\n",
    "\n",
    "        self.labels = np.concatenate((MRFData[\"LUT\"], MRFData_Val[\"LUT\"]), 0)\n",
    "        self.labels = torch.from_numpy(self.labels)\n",
    "\n",
    "        self.D = np.concatenate((np.real(MRFData[\"D\"]), np.real(MRFData_Val[\"D\"])), 0)\n",
    "        self.D = torch.from_numpy(self.D[:, 0:L:subsamp])\n",
    "        self.D = torch.nn.functional.normalize(self.D, p=2.0, dim=1)\n",
    "\n",
    "        if self.is_split_range_T1T2:\n",
    "            # Split train and test set : T1 0~2500, 2500~5000\n",
    "            T1 = self.labels[:, 0]\n",
    "            T2 = self.labels[:, 1]\n",
    "            condition = (\n",
    "                (T1 < T1_condition_threshold) & (T2 < T2_condition_threshold)\n",
    "                if \"train\" in mode\n",
    "                else (T1 > T1_condition_threshold) & (T2 > T2_condition_threshold)\n",
    "            )\n",
    "            self.labels = self.labels[condition]\n",
    "            self.D = self.D[condition]\n",
    "\n",
    "        # T1T2 scale\n",
    "        self.T1 = self.labels[:, 0].unsqueeze(1).repeat(1, len_seq).unsqueeze(1)\n",
    "        self.T2 = self.labels[:, 1].unsqueeze(1).repeat(1, len_seq).unsqueeze(1)\n",
    "        if need_T1T2_logscale == True:\n",
    "            self.T1 = torch.log10(self.T1)\n",
    "            self.T2 = torch.log10(self.T2)\n",
    "\n",
    "        # RF, TR, TE\n",
    "        RFpulses, TR = generate_RF_TR(L)  #%Load slowly changing RF and TR values\n",
    "        RFpulses = RFpulses[0:L:subsamp]  #% undersampling in time dimension.\n",
    "\n",
    "        self.RFpulses = RFpulses.repeat(len(self.labels), 1).unsqueeze(1)\n",
    "        self.TR = TR[0:L:subsamp].repeat(len(self.labels), 1).unsqueeze(1)\n",
    "        self.TE = torch.ones(len(self.labels), 1, len_seq) * 10\n",
    "\n",
    "        if need_RF_degree == True:\n",
    "            self.RFpulses = self.RFpulses * 180 / torch.pi\n",
    "\n",
    "        if need_TETR_second == True:\n",
    "            self.TR = self.TR / 1000\n",
    "            self.TE = self.TE / 1000\n",
    "\n",
    "        # Concat\n",
    "        self.labels = torch.cat((self.RFpulses, self.T1, self.T2, self.TE, self.TR), 1).transpose(\n",
    "            1, 2\n",
    "        )  # (80100, 5, 200)\n",
    "\n",
    "        # This if for Debug\n",
    "        # self.labels = self.labels[0:20]\n",
    "        # self.D = self.D[0:20]\n",
    "\n",
    "    def __len__(self):\n",
    "        return len(self.D)\n",
    "\n",
    "    def __getitem__(self, idx):\n",
    "        return self.D[idx], self.labels[idx]\n",
    "\n",
    "\n",
    "class PingImgDataset_Phantom(Dataset):\n",
    "    \"\"\"\n",
    "    This get item by slice\n",
    "    \"\"\"\n",
    "\n",
    "    # Input : T1T2, RF, TE, TR\n",
    "    def __init__(self, mode=\"train\"):\n",
    "        \"\"\"\n",
    "        This data already done transformation\n",
    "        So now : (need_T1T2_logscale=True, need_TETR_second=True, need_RF_degree=True)\n",
    "        \"\"\"\n",
    "\n",
    "        # load file\n",
    "        path = \"/mnt/ssd/jj/Research/cauMedical/lightning_bolts/Bloch_decoder/data/Pingfan/remove_image_all/\"\n",
    "        if \"test\" in mode:\n",
    "            # !!!!!!!!!!!!!!!!!!!!!!!!!\n",
    "            sl_file = \"test_10subject_4_5_slices_MRIs\"\n",
    "            # !!!!!!!!!!!!!!!!!!!!!!!!!\n",
    "        elif \"train\" in mode:\n",
    "            sl_file = \"train_10subject_4_5_slices_MRIs\"\n",
    "        elif \"none\" in mode:\n",
    "            # !!!!!!!!!!!!!!!!!!!!!!!!!\n",
    "            sl_file = \"all_10subject_4_5_slices_MRIs\"  # \"all_MRIs\" !!!!!!!!!!!!!!!!!!!!!!!!!\n",
    "            # !!!!!!!!!!!!!!!!!!!!!!!!!\n",
    "        sl_file_name = path + sl_file\n",
    "        data_h5py = h5py.File(sl_file_name + \".h5\", \"r\")\n",
    "        self.D = data_h5py[\"X_all\"]\n",
    "        self.labels = data_h5py[\"labels\"]\n",
    "\n",
    "        # st = 130072\n",
    "        # self.D = self.D[st : st + 1000]  # [0 : len(self.D) : 100]\n",
    "        # self.labels = self.labels[st : st + 1000]  # [0 : len(self.labels) : 100]\n",
    "\n",
    "        print(\"Data shape: \", self.D.shape, self.labels.shape)\n",
    "\n",
    "    def __len__(self):\n",
    "        return len(self.D)\n",
    "\n",
    "    def __getitem__(self, idx):\n",
    "        return self.D[idx], self.labels[idx]\n",
    "\n",
    "\n",
    "class PingImgDataset_real(Dataset):\n",
    "    # Input : T1T2, RF, TE, TR\n",
    "    def __init__(\n",
    "        self,\n",
    "        need_T1T2_logscale=True,\n",
    "        need_TETR_second=True,\n",
    "        need_RF_degree=True,\n",
    "    ):\n",
    "        \"\"\"\n",
    "        Approx RNN input : (need_T1T2_logscale=True, need_TETR_second=True, need_RF_degree=True)\n",
    "        Our Bloch decoder input : (need_T1T2_logscale=False, need_TETR_second=False, need_RF_degree=False)\n",
    "        This data : (need_T1T2_logscale=False, need_TETR_second=False, need_RF_degree=False)\n",
    "        \"\"\"\n",
    "\n",
    "        # Variable\n",
    "        L = 1000\n",
    "        subsamp = 1\n",
    "        len_seq = L // subsamp\n",
    "\n",
    "        # Load data\n",
    "        MRFData = scipy.io.loadmat(\"/mnt/ssd/jj/Research/cauMedical/lightning_bolts/Bloch_decoder/data/Pingfan/MRI_N128_L1000_TE10.mat\")\n",
    "\n",
    "        # Data sequence\n",
    "        self.D = torch.from_numpy(np.real(MRFData[\"X_fullysamp\"][:, 0:L:subsamp]))  # self.D:(128,128,1000)\n",
    "        self.D = torch.flatten(self.D, 0, 1)  # self.D:(128*128,1000)\n",
    "        self.D = torch.nn.functional.normalize(self.D, p=2.0, dim=1)\n",
    "\n",
    "        # Label\n",
    "        len_seq = L // subsamp\n",
    "        self.T1 = torch.flatten(torch.from_numpy(MRFData[\"T1_128\"]), 0, 1)  # self.T1:(128*128,)\n",
    "        self.T2 = torch.flatten(torch.from_numpy(MRFData[\"T2_128\"]), 0, 1)  # self.T2:(128*128,)\n",
    "        self.T1 = self.T1.unsqueeze(1).repeat(1, len_seq).unsqueeze(1)  # self.T1:(128*128,lenth, 1)\n",
    "        self.T2 = self.T2.unsqueeze(1).repeat(1, len_seq).unsqueeze(1)  # self.T2:(128*128,lenth, 1)\n",
    "        print(self.T2.shape)\n",
    "        if need_T1T2_logscale == True:\n",
    "            # Replace -inf with -100\n",
    "            T1_log = torch.nan_to_num(torch.log10(self.T1), neginf=-100)\n",
    "            T2_log = torch.nan_to_num(torch.log10(self.T2), neginf=-100)\n",
    "\n",
    "            # Get index that the value is -100\n",
    "            T1_idx_n100 = torch.where(T1_log != -100)[0]\n",
    "            T2_idx_n100 = torch.where(T2_log != -100)[0]\n",
    "            self.T1T2_idx_n100 = np.intersect1d(T1_idx_n100, T2_idx_n100)\n",
    "\n",
    "            # Get rid of -100\n",
    "            self.D = self.D[self.T1T2_idx_n100]\n",
    "            self.T1 = T1_log[self.T1T2_idx_n100]\n",
    "            self.T2 = T1_log[self.T1T2_idx_n100]\n",
    "        print(self.T2.shape)\n",
    "\n",
    "        # RF, TR, TE\n",
    "        RFpulses, TR = generate_RF_TR(L)  #%Load slowly changing RF and TR values\n",
    "        RFpulses = RFpulses[0:L:subsamp]  #% undersampling in time dimension.\n",
    "        # RFpulses = RFpulses * 1j  # %to avoid complex values of X and D\n",
    "        self.RFpulses = RFpulses.repeat(len(self.T1), 1).unsqueeze(1)\n",
    "        self.TR = TR[0:L:subsamp].repeat(len(self.T1), 1).unsqueeze(1)\n",
    "        self.TE = torch.ones(len(self.T1), 1, len_seq) * 10\n",
    "\n",
    "        if need_RF_degree == True:\n",
    "            self.RFpulses = self.RFpulses * 180 / torch.pi\n",
    "\n",
    "        if need_TETR_second == True:\n",
    "            self.TR = self.TR / 1000\n",
    "            self.TE = self.TE / 1000\n",
    "\n",
    "        # Concat\n",
    "        self.labels = torch.cat((self.RFpulses, self.T1, self.T2, self.TE, self.TR), 1).transpose(\n",
    "            1, 2\n",
    "        )  # (128*128, 5, 1000)\n",
    "\n",
    "    def __len__(self):\n",
    "        return len(self.D)\n",
    "\n",
    "    def __getitem__(self, idx):\n",
    "        return self.D[idx], self.labels[idx]\n"
   ]
  },
  {
   "cell_type": "code",
   "execution_count": 6,
   "id": "2a0dbcd1",
   "metadata": {},
   "outputs": [
    {
     "name": "stdout",
     "output_type": "stream",
     "text": [
      "Data shape:  (164776, 1000) (164776, 5, 1000)\n",
      "Data shape:  (42845, 1000) (42845, 5, 1000)\n"
     ]
    },
    {
     "data": {
      "text/plain": [
       "42845"
      ]
     },
     "execution_count": 6,
     "metadata": {},
     "output_type": "execute_result"
    }
   ],
   "source": [
    "data_module = MRIDataModule(\n",
    "            batch_size=40, num_workers=4, train_data_type=\"phantomTr\", test_data_type=\"phantomTe\", subsamp=1, seq_jump=5, is_input_RF=1,\n",
    "            need_T1T2_logscale=True, need_TETR_second=True, need_RF_degree=True,)\n",
    "data_module.prepare_data()\n",
    "data_module.setup()\n",
    "\n",
    "data_module.testset.__len__()"
   ]
  },
  {
   "cell_type": "code",
   "execution_count": 9,
   "id": "9e1bfb2b",
   "metadata": {},
   "outputs": [
    {
     "name": "stdout",
     "output_type": "stream",
     "text": [
      "42845\n"
     ]
    },
    {
     "data": {
      "text/plain": [
       "164776"
      ]
     },
     "execution_count": 9,
     "metadata": {},
     "output_type": "execute_result"
    }
   ],
   "source": [
    "print(data_module.testset.__len__())\n",
    "data_module.trainset.__len__()"
   ]
  },
  {
   "cell_type": "code",
   "execution_count": 10,
   "id": "cb001306",
   "metadata": {},
   "outputs": [
    {
     "data": {
      "text/plain": [
       "2.61505126953125"
      ]
     },
     "execution_count": 10,
     "metadata": {},
     "output_type": "execute_result"
    }
   ],
   "source": [
    "42845/(128*128)"
   ]
  },
  {
   "cell_type": "code",
   "execution_count": 30,
   "id": "d16030f4",
   "metadata": {},
   "outputs": [],
   "source": [
    "path = \"/mnt/ssd/jj/Research/cauMedical/lightning_bolts/Bloch_decoder/data/Pingfan/remove_image_all/test_10subject_5_slices_MRIs.npz\"\n",
    "\n",
    "d = np.load(path)\n",
    "dd = d[\"X_all\"]\n"
   ]
  },
  {
   "cell_type": "code",
   "execution_count": 33,
   "id": "2f660ece",
   "metadata": {},
   "outputs": [
    {
     "data": {
      "text/plain": [
       "(20881, 5, 1000)"
      ]
     },
     "execution_count": 33,
     "metadata": {},
     "output_type": "execute_result"
    }
   ],
   "source": [
    "d[\"labels\"].shape"
   ]
  },
  {
   "cell_type": "markdown",
   "id": "549a3bdb",
   "metadata": {},
   "source": [
    "# Load saved models"
   ]
  },
  {
   "cell_type": "code",
   "execution_count": 11,
   "id": "d6a86999",
   "metadata": {},
   "outputs": [],
   "source": [
    "class LitModel_Test_(pl.LightningModule):\n",
    "    def __init__(\n",
    "        self,\n",
    "        exp_id,\n",
    "        input_prod_size,\n",
    "        enc_out_dim,\n",
    "        latent_dim,\n",
    "        test_data_type,\n",
    "    ):\n",
    "        super().__init__()\n",
    "        self.save_hyperparameters()\n",
    "        self.step = self.step_en_for_jupyter\n",
    "\n",
    "        # self.encoder.load_state_dict(model_load_matcher(model_dir)); model_dir = \"/mnt/ssd/jj/Research/cauMedical/output/Split/\" + str(exp_id) + \"/last.ckpt\"\n",
    "\n",
    "        self.ckpt = self.load_ckpt(exp_id)\n",
    "        self.encoder = self.check_encoder_type(self.ckpt)  # (input_prod_size, enc_out_dim, latent_dim)\n",
    "        self.encoder = self.encoder(input_prod_size, enc_out_dim, latent_dim).cuda()\n",
    "        self.safe_model_loader(self.encoder, self.ckpt)\n",
    "        self.encoder = self.encoder.cuda()\n",
    "        self.encoder.eval()\n",
    "\n",
    "    def check_encoder_type(self, ckpt):\n",
    "        if \"gru\" in list(ckpt[\"state_dict\"].keys())[0]:\n",
    "            encoder = RNN_Encoder\n",
    "        else:\n",
    "            encoder = FC_Encoder\n",
    "        return encoder\n",
    "\n",
    "    def safe_model_loader(self, model, ckpt):\n",
    "        new_ckpt = {}\n",
    "        for i in list(ckpt[\"state_dict\"].keys()):\n",
    "            if \"encoder\" in i:\n",
    "                model_parameter_name = i[8:]\n",
    "                new_ckpt[str(model_parameter_name)] = ckpt[\"state_dict\"][i]\n",
    "        model.load_state_dict(new_ckpt)\n",
    "        return\n",
    "\n",
    "    def load_ckpt(self, exp_id):\n",
    "        # path = os.path.join(root_dir, exp_id, \"last.ckpt\")\n",
    "        path = \"/mnt/ssd/jj/Research/cauMedical/output/Split/\" + str(exp_id) + \"/last.ckpt\"\n",
    "        return torch.load(path, map_location=\"cuda\")\n",
    "\n",
    "    def step_en_for_jupyter(self, batch, batch_idx):\n",
    "        \"\"\"\n",
    "        x: (n, length)\n",
    "        z: (n, length, 5) # should be\n",
    "        \"\"\"\n",
    "        x, z = batch\n",
    "        x = x.to(torch.float).cuda()\n",
    "        z = z.to(torch.float).cuda()\n",
    "        if z.shape[-1] > 10:\n",
    "            z = z.transpose(1, 2)\n",
    "\n",
    "        # variables\n",
    "        T1T2 = z[:, 0, 1:3]  # T1T2: (n, 2)\n",
    "        TE = z[:, :, 3].unsqueeze(-1)  # TE: (n, length, 1)\n",
    "        TR = z[:, :, 2].unsqueeze(-1)  # TR: (n, length, 1)\n",
    "        RF = z[:, :, 0].unsqueeze(-1)  # RF: (n, length, 1)\n",
    "\n",
    "        T1T2_hat = self.encoder.forward(x)\n",
    "        loss = F.mse_loss(T1T2_hat, T1T2, reduction=\"mean\")\n",
    "        return T1T2_hat, T1T2, loss"
   ]
  },
  {
   "cell_type": "code",
   "execution_count": 12,
   "id": "eebcab9c",
   "metadata": {},
   "outputs": [],
   "source": [
    "# Load model\n",
    "from trainer import RNN_Encoder\n",
    "model_dir = '/mnt/ssd/jj/Research/cauMedical/output/Split/'+str(exp_id)+'/last.ckpt' \n",
    "enc_out_dim = 300  # 512,\n",
    "latent_dim = 2  # T1 and T2,\n",
    "input_prod_size = 1000  # (1000//args.subsamp,)  # self.L//subsamp of bloch decoder, (200,)\n",
    "model = LitModel_Test_(\n",
    "    exp_id,\n",
    "    input_prod_size,\n",
    "    enc_out_dim,\n",
    "    latent_dim,\n",
    "    test_data_type,\n",
    ")\n",
    "\n"
   ]
  },
  {
   "cell_type": "markdown",
   "id": "efc2ae50",
   "metadata": {},
   "source": [
    "# Figure: dotdot"
   ]
  },
  {
   "cell_type": "code",
   "execution_count": 14,
   "id": "9e9a895b",
   "metadata": {},
   "outputs": [
    {
     "name": "stdout",
     "output_type": "stream",
     "text": [
      "torch.Size([16384, 1, 1000])\n",
      "torch.Size([7499, 1, 1000])\n"
     ]
    }
   ],
   "source": [
    "data_module = MRIDataModule(\n",
    "            batch_size=40, num_workers=4, train_data_type=\"seqTr\", test_data_type=test_data_type, subsamp=1, seq_jump=5, is_input_RF=1,\n",
    "            need_T1T2_logscale=True, need_TETR_second=True, need_RF_degree=True,\n",
    "        )\n",
    "data_module.prepare_data()\n",
    "data_module.setup()\n",
    "\n",
    "train_loader = data_module.train_dataloader()\n",
    "test_loader = data_module.test_dataloader()\n",
    "\n",
    "batch = next(iter(train_loader))\n",
    "batch_test = next(iter(test_loader))"
   ]
  },
  {
   "cell_type": "code",
   "execution_count": 15,
   "id": "24bc70f7",
   "metadata": {},
   "outputs": [
    {
     "name": "stdout",
     "output_type": "stream",
     "text": [
      "torch.Size([40, 2]) torch.Size([40, 2]) tensor(0.3474, device='cuda:0', grad_fn=<MseLossBackward0>)\n"
     ]
    }
   ],
   "source": [
    "x, y = batch\n",
    "bath = [x.cuda(), y.cuda()]\n",
    "x, y = batch\n",
    "T1T2 = y[:,0,1:3]\n",
    "T1T2\n",
    "\n",
    "# Forward\n",
    "T1T2_hat, T1T2, loss = model.step_en_for_jupyter(batch, 0)\n",
    "print(T1T2_hat.shape, T1T2.shape, loss)\n",
    "T1T2_hat = T1T2_hat.detach().cpu(); T1T2 = T1T2.detach().cpu()"
   ]
  },
  {
   "cell_type": "code",
   "execution_count": 16,
   "id": "a5ce5ac6",
   "metadata": {},
   "outputs": [
    {
     "data": {
      "image/png": "[encoded data removed]",
      "text/plain": [
       "<Figure size 432x288 with 1 Axes>"
      ]
     },
     "metadata": {
      "needs_background": "light"
     },
     "output_type": "display_data"
    }
   ],
   "source": [
    "# Plot\n",
    " \n",
    "fig = plt.figure()\n",
    "ax1 = fig.add_subplot(111)\n",
    "\n",
    "ax1.scatter(T1T2[:,0], T1T2[:,1], s=10, c='b', marker=\"s\", label='grount-truth T1T2')\n",
    "ax1.scatter(T1T2_hat[:,0], T1T2_hat[:,1], s=10, c='r', marker=\"o\", label='predicted T1T2')\n",
    "plt.legend(loc='upper left');\n",
    "plt.show()"
   ]
  },
  {
   "cell_type": "markdown",
   "id": "83eeeb39",
   "metadata": {},
   "source": [
    "# Figure: img"
   ]
  },
  {
   "cell_type": "code",
   "execution_count": 26,
   "id": "b3092ecd",
   "metadata": {},
   "outputs": [
    {
     "name": "stdout",
     "output_type": "stream",
     "text": [
      "torch.Size([16384, 1, 1000])\n",
      "torch.Size([7499, 1, 1000])\n",
      "torch.Size([7499, 1000])\n",
      "torch.Size([7499, 1000, 5])\n",
      "torch.Size([7499, 2]) torch.Size([7499, 2]) tensor(0.0485, device='cuda:0', grad_fn=<MseLossBackward0>)\n"
     ]
    }
   ],
   "source": [
    "dataset = PingImgDataset_real()\n",
    "x = dataset.D\n",
    "y = dataset.labels\n",
    "print(x.shape)\n",
    "\n",
    "batch = (x.cuda(), y.cuda())\n",
    "x, y = batch\n",
    "print(y.shape)\n",
    "T1T2 = y[:,0,1:3]\n",
    "T1T2\n",
    "\n",
    "# Forward\n",
    "T1T2_hat, T1T2, loss = model.step_en_for_jupyter(batch, 0)\n",
    "print(T1T2_hat.shape, T1T2.shape, loss)\n",
    "T1T2_hat = T1T2_hat.detach().cpu(); T1T2 = T1T2.detach().cpu()"
   ]
  },
  {
   "cell_type": "markdown",
   "id": "d622aa8c",
   "metadata": {},
   "source": [
    "### Does reshape undo the flatten?"
   ]
  },
  {
   "cell_type": "code",
   "execution_count": 27,
   "id": "fe615da9",
   "metadata": {},
   "outputs": [
    {
     "name": "stdout",
     "output_type": "stream",
     "text": [
      "(128, 128)\n",
      "torch.Size([16384, 1, 100])\n",
      "(7499,) torch.Size([7499, 1, 100]) ----\n",
      "torch.Size([2, 7499, 100])\n",
      "torch.Size([7499])\n"
     ]
    },
    {
     "ename": "RuntimeError",
     "evalue": "shape '[128, -1]' is invalid for input of size 7499",
     "output_type": "error",
     "traceback": [
      "\u001b[0;31m---------------------------------------------------------------------------\u001b[0m",
      "\u001b[0;31mRuntimeError\u001b[0m                              Traceback (most recent call last)",
      "Input \u001b[0;32mIn [27]\u001b[0m, in \u001b[0;36m<cell line: 40>\u001b[0;34m()\u001b[0m\n\u001b[1;32m     37\u001b[0m \u001b[38;5;28mprint\u001b[39m(T1\u001b[38;5;241m.\u001b[39mshape)\n\u001b[1;32m     39\u001b[0m \u001b[38;5;66;03m# Reshape\u001b[39;00m\n\u001b[0;32m---> 40\u001b[0m T1\u001b[38;5;241m=\u001b[39m \u001b[43mT1\u001b[49m\u001b[38;5;241;43m.\u001b[39;49m\u001b[43mreshape\u001b[49m\u001b[43m(\u001b[49m\u001b[38;5;241;43m128\u001b[39;49m\u001b[43m,\u001b[49m\u001b[43m \u001b[49m\u001b[38;5;241;43m-\u001b[39;49m\u001b[38;5;241;43m1\u001b[39;49m\u001b[43m)\u001b[49m\n\u001b[1;32m     42\u001b[0m \u001b[38;5;66;03m# Undo Log\u001b[39;00m\n\u001b[1;32m     43\u001b[0m T1 \u001b[38;5;241m=\u001b[39m torch\u001b[38;5;241m.\u001b[39mexp(T1)\n",
      "\u001b[0;31mRuntimeError\u001b[0m: shape '[128, -1]' is invalid for input of size 7499"
     ]
    }
   ],
   "source": [
    "MRFData = scipy.io.loadmat(\"/mnt/ssd/jj/Research/cauMedical/lightning_bolts/Bloch_decoder/data/Pingfan/MRI_N128_L1000_TE10.mat\")\n",
    "\n",
    "\n",
    "print(MRFData[\"T1_128\"].shape)\n",
    "# plt.imshow(MRFData[\"T1_128\"])\n",
    "\n",
    "# Flatten\n",
    "T1 = torch.flatten(torch.from_numpy(MRFData[\"T1_128\"]), 0, 1)\n",
    "T1 = T1.unsqueeze(1).repeat(1, 100).unsqueeze(1)\n",
    "T2 = torch.flatten(torch.from_numpy(MRFData[\"T2_128\"]), 0, 1)\n",
    "T2 = T2.unsqueeze(1).repeat(1, 100).unsqueeze(1)\n",
    "print(T1.shape)\n",
    "\n",
    "# Log\n",
    "## Replace -inf with -100\n",
    "T1_log = torch.nan_to_num(torch.log10(T1), neginf=-100)\n",
    "T2_log = torch.nan_to_num(torch.log10(T2), neginf=-100)\n",
    "\n",
    "## Get index that the value is -100\n",
    "T1_idx_n100 = torch.where(T1_log != -100)[0]\n",
    "T2_idx_n100 = torch.where(T2_log != -100)[0]\n",
    "T1T2_idx_n100 = np.intersect1d(T1_idx_n100, T2_idx_n100)\n",
    "\n",
    "## Get rid of -100\n",
    "T1 = T1_log[T1T2_idx_n100]\n",
    "T2 = T2_log[T1T2_idx_n100]\n",
    "print(T1T2_idx_n100.shape, T1.shape, '----')\n",
    "\n",
    "# Concat\n",
    "T1T2 = torch.cat((T1, T2), 1)\n",
    "T1T2 = T1T2.transpose(0, 1)\n",
    "print(T1T2.shape)\n",
    "\n",
    "############################################### reflect ####################################\n",
    "# T1\n",
    "T1 = T1T2[0, :, 0]\n",
    "print(T1.shape)\n",
    "\n",
    "# Reshape\n",
    "T1= T1.reshape(128, -1)\n",
    "\n",
    "# Undo Log\n",
    "T1 = torch.exp(T1)\n",
    "\n",
    "\n",
    "print(T1.shape)\n",
    "plt.imshow(T1)"
   ]
  },
  {
   "cell_type": "code",
   "execution_count": 23,
   "id": "88a2e45d",
   "metadata": {},
   "outputs": [
    {
     "ename": "RuntimeError",
     "evalue": "shape mismatch: value tensor of shape [2, 100] cannot be broadcast to indexing result of shape [7499]",
     "output_type": "error",
     "traceback": [
      "\u001b[0;31m---------------------------------------------------------------------------\u001b[0m",
      "\u001b[0;31mRuntimeError\u001b[0m                              Traceback (most recent call last)",
      "Input \u001b[0;32mIn [23]\u001b[0m, in \u001b[0;36m<cell line: 4>\u001b[0;34m()\u001b[0m\n\u001b[1;32m      2\u001b[0m T1_h \u001b[38;5;241m=\u001b[39m torch\u001b[38;5;241m.\u001b[39mzeros((\u001b[38;5;241m128\u001b[39m,\u001b[38;5;241m128\u001b[39m))\u001b[38;5;241m.\u001b[39mflatten()\n\u001b[1;32m      3\u001b[0m T2_h \u001b[38;5;241m=\u001b[39m torch\u001b[38;5;241m.\u001b[39mzeros((\u001b[38;5;241m128\u001b[39m,\u001b[38;5;241m128\u001b[39m))\u001b[38;5;241m.\u001b[39mflatten()\n\u001b[0;32m----> 4\u001b[0m \u001b[43mT1_h\u001b[49m\u001b[43m[\u001b[49m\u001b[43mdataset\u001b[49m\u001b[38;5;241;43m.\u001b[39;49m\u001b[43mT1T2_idx_n100\u001b[49m\u001b[43m]\u001b[49m \u001b[38;5;241m=\u001b[39m T1T2[:,\u001b[38;5;241m0\u001b[39m]\n\u001b[1;32m      5\u001b[0m T2_h[dataset\u001b[38;5;241m.\u001b[39mT1T2_idx_n100] \u001b[38;5;241m=\u001b[39m T1T2[:,\u001b[38;5;241m1\u001b[39m]\n\u001b[1;32m      7\u001b[0m T1_hat_h \u001b[38;5;241m=\u001b[39m torch\u001b[38;5;241m.\u001b[39mzeros((\u001b[38;5;241m128\u001b[39m,\u001b[38;5;241m128\u001b[39m))\u001b[38;5;241m.\u001b[39mflatten()\n",
      "\u001b[0;31mRuntimeError\u001b[0m: shape mismatch: value tensor of shape [2, 100] cannot be broadcast to indexing result of shape [7499]"
     ]
    }
   ],
   "source": [
    "\n",
    "# Holder\n",
    "T1_h = torch.zeros((128,128)).flatten()\n",
    "T2_h = torch.zeros((128,128)).flatten()\n",
    "T1_h[dataset.T1T2_idx_n100] = T1T2[:,0]\n",
    "T2_h[dataset.T1T2_idx_n100] = T1T2[:,1]\n",
    "\n",
    "T1_hat_h = torch.zeros((128,128)).flatten()\n",
    "T2_hat_h = torch.zeros((128,128)).flatten()\n",
    "T1_hat_h[dataset.T1T2_idx_n100] = T1T2_hat[:,0]\n",
    "T2_hat_h[dataset.T1T2_idx_n100] = T1T2_hat[:,1]\n",
    "\n",
    "\n",
    "# Change shape of T1T2 \n",
    "T1_n = T1_h.view(128, 128)\n",
    "T2_n = T2_h.view(128, 128)\n",
    "\n",
    "T1_hat_n = T1_hat_h.view(128, 128)\n",
    "T2_hat_n = T2_hat_h.view(128, 128)\n",
    "\n",
    "error1_n = T1_n - T1_hat_n\n",
    "error2_n = T2_n - T2_hat_n\n",
    "\n",
    "print(T1.shape, T1_n.shape, T1_hat_n.shape, error1_n.shape)\n",
    "\n",
    "# Undo the log\n",
    "T1_n = torch.exp(T1_n); T2_n = torch.exp(T2_n)\n",
    "T1_hat_n = torch.exp(T1_hat_n); T2_hat_n = torch.exp(T2_hat_n)\n",
    "error1_n = torch.exp(error1_n); error2_n = torch.exp(error2_n)\n",
    "\n",
    "\n",
    "sp=0\n",
    "vari = ['T1_ground_truth','T1_hat', 'T2_ground_truth','T2_hat', 'error_T1', 'error_T2']\n",
    "parm = [T1_n, T1_hat_n, T2_n, T2_hat_n, error1_n, error2_n]\n",
    "\n",
    "plt.figure(figsize = (10,10))\n",
    "\n",
    "for i in range(0, 3):\n",
    "    plt.subplot(3, 2, sp+1)\n",
    "    plt.imshow((parm[sp]).real)\n",
    "    plt.title(vari[sp])\n",
    "    sp += 1\n",
    "    \n",
    "    plt.subplot(3, 2, sp+1)\n",
    "    plt.imshow((parm[sp]).real)\n",
    "    plt.title(vari[sp])\n",
    "    sp += 1"
   ]
  },
  {
   "cell_type": "markdown",
   "id": "0ea281cc",
   "metadata": {},
   "source": [
    "# Figure: line"
   ]
  },
  {
   "cell_type": "code",
   "execution_count": 37,
   "id": "952885cc",
   "metadata": {},
   "outputs": [
    {
     "name": "stdout",
     "output_type": "stream",
     "text": [
      "torch.Size([16384, 2]) torch.Size([16384, 2]) tensor(0.0003, device='cuda:0', grad_fn=<MseLossBackward0>)\n"
     ]
    }
   ],
   "source": [
    "test_data_type = 'real'\n",
    "\n",
    "data_module = MRIDataModule(\n",
    "            batch_size=128*128, num_workers=4, train_data_type=\"seqTr\", test_data_type=test_data_type, subsamp=1, seq_jump=5, is_input_RF=1,\n",
    "            need_T1T2_logscale=True, need_TETR_second=True, need_RF_degree=True,\n",
    "        )\n",
    "data_module.prepare_data()\n",
    "data_module.setup()\n",
    "train_loader = data_module.train_dataloader()\n",
    "test_loader = data_module.test_dataloader()\n",
    "batch = next(iter(train_loader))\n",
    "batch_test = next(iter(test_loader))\n",
    "\n",
    "x, y = batch\n",
    "bath = [x.cuda(), y.cuda()]\n",
    "x, y = batch\n",
    "T1T2 = y[:,0,1:3]\n",
    "T1T2\n",
    "\n",
    "# Forward\n",
    "T1T2_hat, T1T2, loss = model.step_en_for_jupyter(batch, 0)\n",
    "print(T1T2_hat.shape, T1T2.shape, loss)\n",
    "T1T2_hat = T1T2_hat.detach().cpu(); T1T2 = T1T2.detach().cpu()\n",
    "\n"
   ]
  },
  {
   "cell_type": "code",
   "execution_count": 65,
   "id": "aea970b5",
   "metadata": {},
   "outputs": [
    {
     "data": {
      "image/png": "[encoded data removed]",
      "text/plain": [
       "<Figure size 216x216 with 1 Axes>"
      ]
     },
     "metadata": {
      "needs_background": "light"
     },
     "output_type": "display_data"
    },
    {
     "data": {
      "image/png": "[encoded data removed]",
      "text/plain": [
       "<Figure size 216x216 with 1 Axes>"
      ]
     },
     "metadata": {
      "needs_background": "light"
     },
     "output_type": "display_data"
    },
    {
     "data": {
      "image/png": "[encoded data removed]",
      "text/plain": [
       "<Figure size 216x216 with 1 Axes>"
      ]
     },
     "metadata": {
      "needs_background": "light"
     },
     "output_type": "display_data"
    },
    {
     "data": {
      "image/png": "[encoded data removed]",
      "text/plain": [
       "<Figure size 216x216 with 1 Axes>"
      ]
     },
     "metadata": {
      "needs_background": "light"
     },
     "output_type": "display_data"
    }
   ],
   "source": [
    "# show reconstruction\n",
    "\n",
    "ind_T1 = np.argsort(T1T2[:,0])\n",
    "Label_T1 = T1T2[ind_T1,0]\n",
    "predictions_T1 = T1T2_hat[ind_T1,0]\n",
    "\n",
    "ind_T2 = np.argsort(T1T2[:,1])\n",
    "Label_T2 = T1T2[ind_T2,1]\n",
    "predictions_T2 = T1T2_hat[ind_T2,1]\n",
    "\n",
    "\n",
    "# Plot\n",
    "mycmap = 'jet' # 'gray'\n",
    "mydpi = 200\n",
    "\n",
    "FigNameT1 = \"T1_CNN_1Dsimu.png\"\n",
    "FigNameT2 = \"T2_CNN_1Dsimu.png\"\n",
    "FigNameT1res = \"T1_res_CNN_1Dsimu.png\"\n",
    "FigNameT2res = \"T2_res_CNN_1Dsimu.png\"\n",
    "FigNameT1corr = \"T1_corr_CNN_1Dsimu.png\"\n",
    "FigNameT2corr = \"T2_corr_CNN_1Dsimu.png\"\n",
    "FigNameT1error = \"T1_error_CNN_1Dsimu.png\"\n",
    "FigNameT2error = \"T2_error_CNN_1Dsimu.png\"\n",
    "\n",
    "plt.figure(figsize = (3,3))\n",
    "\n",
    "plt.plot(Label_T1, predictions_T1,'r.',label='Estimation')\n",
    "plt.plot(Label_T1, Label_T1,'b-',label='Reference')\n",
    "#plt.title('T1_Corr')\n",
    "plt.grid(True)\n",
    "plt.xlim((0, 5))\n",
    "plt.ylim((0, 5))\n",
    "plt.xlabel('Reference T1 (ms)')\n",
    "plt.ylabel('Estimated T1 (ms)')\n",
    "plt.legend(loc='best')\n",
    "plt.title('T1 reconstruction')\n",
    "plt.savefig(FigNameT1corr,bbox_inches='tight',transparent = True,pad_inches = 0,dpi=mydpi)\n",
    "plt.show()\n",
    "\n",
    "# show error maps\n",
    "# plt.subplot(2,2,3)\n",
    "plt.figure(figsize = (3,3))\n",
    "plt.plot(Label_T1, predictions_T1-Label_T1,'r.',label='Estimation')\n",
    "plt.grid(True)\n",
    "plt.xlim((0, 5))\n",
    "plt.ylim((-1, 1))\n",
    "plt.xlabel('Reference T1 (ms)')\n",
    "plt.ylabel('Error of estimated T1 (ms)')\n",
    "plt.title('T1 error map')\n",
    "#plt.legend(loc='best')\n",
    "plt.savefig(FigNameT1error,bbox_inches='tight',transparent = True,pad_inches = 0,dpi=mydpi)\n",
    "plt.show()\n",
    "\n",
    "# plt.subplot(2,2,2)\n",
    "plt.figure(figsize = (3,3))\n",
    "plt.plot(Label_T2, predictions_T2,'r.',label='Estimation')\n",
    "plt.plot(Label_T2, Label_T2,'b-',label='Reference')\n",
    "#plt.title('T2_Corr')\n",
    "plt.grid(True)\n",
    "plt.xlim((0, 5))\n",
    "plt.ylim((0, 5))\n",
    "plt.xlabel('Reference T2 (ms)')\n",
    "plt.ylabel('Estimated T2 (ms)')\n",
    "plt.legend(loc='best')\n",
    "plt.title('T2 reconstruction')\n",
    "plt.savefig(FigNameT2corr,bbox_inches='tight',transparent = True,pad_inches = 0,dpi=mydpi)\n",
    "plt.show()\n",
    "\n",
    "\n",
    "# show error maps\n",
    "# plt.subplot(2,2,4)\n",
    "plt.figure(figsize = (3,3))\n",
    "plt.plot(Label_T2, predictions_T2-Label_T2,'r.',label='Estimation')\n",
    "plt.grid(True)\n",
    "plt.xlim((0, 5))\n",
    "plt.ylim((-1, 1))\n",
    "plt.xlabel('Reference T2 (ms)')\n",
    "plt.ylabel('Error of estimated T2 (ms)')\n",
    "#plt.legend(loc='best')\n",
    "plt.title('T2 error map')\n",
    "plt.savefig(FigNameT2error,bbox_inches='tight',transparent = True,pad_inches = 0,dpi=mydpi)\n",
    "plt.show()"
   ]
  },
  {
   "cell_type": "code",
   "execution_count": null,
   "id": "3aa4bc22",
   "metadata": {},
   "outputs": [],
   "source": []
  }
 ],
 "metadata": {
  "kernelspec": {
   "display_name": "Python 3",
   "language": "python",
   "name": "python3"
  },
  "language_info": {
   "codemirror_mode": {
    "name": "ipython",
    "version": 3
   },
   "file_extension": ".py",
   "mimetype": "text/x-python",
   "name": "python",
   "nbconvert_exporter": "python",
   "pygments_lexer": "ipython3",
   "version": "3.8.13"
  }
 },
 "nbformat": 4,
 "nbformat_minor": 5
}
