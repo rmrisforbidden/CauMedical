{
 "cells": [
  {
   "cell_type": "markdown",
   "metadata": {},
   "source": [
    "# Use BrainWeb"
   ]
  },
  {
   "cell_type": "code",
   "execution_count": 1,
   "metadata": {},
   "outputs": [],
   "source": [
    "import torch\n",
    "import brainweb\n",
    "import matplotlib.pyplot as plt\n",
    "%matplotlib inline"
   ]
  },
  {
   "cell_type": "code",
   "execution_count": 2,
   "metadata": {},
   "outputs": [],
   "source": [
    "from __future__ import print_function, division\n",
    "%matplotlib notebook\n",
    "import brainweb\n",
    "from brainweb import volshow\n",
    "import numpy as np\n",
    "from os import path\n",
    "from tqdm.auto import tqdm\n",
    "import logging\n",
    "logging.basicConfig(level=logging.INFO)"
   ]
  },
  {
   "cell_type": "markdown",
   "metadata": {},
   "source": [
    "## View data"
   ]
  },
  {
   "cell_type": "code",
   "execution_count": 4,
   "metadata": {},
   "outputs": [
    {
     "data": {
      "application/vnd.jupyter.widget-view+json": {
       "model_id": "40886f2b0b3c4494b6f3c4900d4bd39a",
       "version_major": 2,
       "version_minor": 0
      },
      "text/plain": [
       "BrainWeb Subjects:   0%|          | 0/20 [00:00<?, ?file/s]"
      ]
     },
     "metadata": {},
     "output_type": "display_data"
    },
    {
     "name": "stdout",
     "output_type": "stream",
     "text": [
      "/mnt/ssd/jj/.brainweb/subject_54.bin.gz\n"
     ]
    },
    {
     "data": {
      "application/vnd.jupyter.widget-view+json": {
       "model_id": "74fd3fa6dc8748aaa462356bda5ad11c",
       "version_major": 2,
       "version_minor": 0
      },
      "text/plain": [
       "Output()"
      ]
     },
     "metadata": {},
     "output_type": "display_data"
    },
    {
     "data": {
      "text/plain": [
       "<Figure size 432x288 with 0 Axes>"
      ]
     },
     "metadata": {},
     "output_type": "display_data"
    },
    {
     "data": {
      "application/vnd.jupyter.widget-view+json": {
       "model_id": "bcdee9e75ecd46a9a6dac397ff5496c2",
       "version_major": 2,
       "version_minor": 0
      },
      "text/plain": [
       "interactive(children=(IntSlider(value=181, description='z', max=361), Output()), _dom_classes=('widget-interac…"
      ]
     },
     "metadata": {},
     "output_type": "display_data"
    }
   ],
   "source": [
    "%matplotlib inline\n",
    "# download\n",
    "files = brainweb.get_files()\n",
    "\n",
    "# read last file\n",
    "data = brainweb.load_file(files[-1])\n",
    "\n",
    "# show last subject\n",
    "print(files[-1])\n",
    "volshow(data, cmaps=['gist_ncar']);"
   ]
  },
  {
   "cell_type": "code",
   "execution_count": 11,
   "metadata": {},
   "outputs": [
    {
     "data": {
      "text/plain": [
       "(362, 434, 362)"
      ]
     },
     "execution_count": 11,
     "metadata": {},
     "output_type": "execute_result"
    }
   ],
   "source": [
    "data.shape"
   ]
  },
  {
   "cell_type": "markdown",
   "metadata": {},
   "source": [
    "# Transform"
   ]
  },
  {
   "cell_type": "markdown",
   "metadata": {},
   "source": [
    "## Convert raw image data:\n",
    "\n",
    "Siemens Biograph mMR resolution (~2mm) & dimensions (127, 344, 344)\n",
    "\n",
    "\n",
    "PET/T1/T2/uMap intensities\n",
    "\n",
    "\n",
    "PET defaults to FDG intensity ratios; could use e.g. Amyloid instead\n",
    "\n",
    "\n",
    "randomised structure for PET/T1/T2\n",
    "\n",
    "\n",
    "t (1 + g [2 G_sigma(r) - 1]), where\n",
    "\n",
    "\n",
    "r = rand(127, 344, 344) in [0, 1),\n",
    "\n",
    "\n",
    "Gaussian smoothing sigma = 1,\n",
    "\n",
    "\n",
    "g = 1 for PET; 0.75 for MR, and\n",
    "\n",
    "\n",
    "t = the PET or MR piecewise constant phantom#"
   ]
  },
  {
   "cell_type": "code",
   "execution_count": 20,
   "metadata": {},
   "outputs": [
    {
     "data": {
      "application/vnd.jupyter.widget-view+json": {
       "model_id": "927d69d7a4c44975b22ebfcd0e2bdf62",
       "version_major": 2,
       "version_minor": 0
      },
      "text/plain": [
       "BrainWeb labels:   0%|          | 0/12 [00:00<?, ?label/s]"
      ]
     },
     "metadata": {},
     "output_type": "display_data"
    },
    {
     "data": {
      "application/vnd.jupyter.widget-view+json": {
       "model_id": "3a731fc7dd71419b93c57e7c8cbe96e6",
       "version_major": 2,
       "version_minor": 0
      },
      "text/plain": [
       "Trimming ROI:   0%|          | 0/4 [00:00<?, ?it/s]"
      ]
     },
     "metadata": {},
     "output_type": "display_data"
    },
    {
     "data": {
      "application/vnd.jupyter.widget-view+json": {
       "model_id": "2624dc229f4248c38ea8de021c06c9a4",
       "version_major": 2,
       "version_minor": 0
      },
      "text/plain": [
       "Output()"
      ]
     },
     "metadata": {},
     "output_type": "display_data"
    },
    {
     "data": {
      "text/plain": [
       "<Figure size 432x288 with 0 Axes>"
      ]
     },
     "metadata": {},
     "output_type": "display_data"
    },
    {
     "data": {
      "application/vnd.jupyter.widget-view+json": {
       "model_id": "836367b7afd444e2abb69df687bb80ba",
       "version_major": 2,
       "version_minor": 0
      },
      "text/plain": [
       "interactive(children=(IntSlider(value=44, description='z', max=88), Output()), _dom_classes=('widget-interact'…"
      ]
     },
     "metadata": {},
     "output_type": "display_data"
    }
   ],
   "source": [
    "# show region probability masks\n",
    "PetClass = brainweb.FDG\n",
    "label_probs = brainweb.get_label_probabilities(files[-1], labels=PetClass.all_labels)\n",
    "volshow(label_probs[brainweb.trim_zeros_ROI(label_probs)], titles=PetClass.all_labels, frameon=False);"
   ]
  },
  {
   "cell_type": "code",
   "execution_count": 21,
   "metadata": {},
   "outputs": [
    {
     "data": {
      "application/vnd.jupyter.widget-view+json": {
       "model_id": "22af870bcbe74050bc56a7ac49c8e96d",
       "version_major": 2,
       "version_minor": 0
      },
      "text/plain": [
       "mMR ground truths:   0%|          | 0/20 [00:00<?, ?subject/s]"
      ]
     },
     "metadata": {},
     "output_type": "display_data"
    }
   ],
   "source": [
    "brainweb.seed(1337)\n",
    "\n",
    "for f in tqdm(files, desc=\"mMR ground truths\", unit=\"subject\"):\n",
    "    vol = brainweb.get_mmr_fromfile(\n",
    "        f,\n",
    "        petNoise=1, t1Noise=0.75, t2Noise=0.75,\n",
    "        petSigma=1, t1Sigma=1, t2Sigma=1,\n",
    "        PetClass=PetClass)\n",
    "        "
   ]
  },
  {
   "cell_type": "code",
   "execution_count": 34,
   "metadata": {},
   "outputs": [
    {
     "name": "stdout",
     "output_type": "stream",
     "text": [
      "(127, 344, 344)\n",
      "(127, 344, 344)\n",
      "(127, 344, 344)\n"
     ]
    }
   ],
   "source": [
    "print(vol['T1'].shape)\n",
    "print(vol['T2'].shape)\n",
    "print(vol['PET'].shape)"
   ]
  },
  {
   "cell_type": "code",
   "execution_count": 22,
   "metadata": {},
   "outputs": [
    {
     "name": "stdout",
     "output_type": "stream",
     "text": [
      "/mnt/ssd/jj/.brainweb/subject_54.bin.gz\n"
     ]
    },
    {
     "data": {
      "application/vnd.jupyter.widget-view+json": {
       "model_id": "b28422e29bef4bca9dbb27eac43f6d06",
       "version_major": 2,
       "version_minor": 0
      },
      "text/plain": [
       "Output()"
      ]
     },
     "metadata": {},
     "output_type": "display_data"
    },
    {
     "data": {
      "text/plain": [
       "<Figure size 432x288 with 0 Axes>"
      ]
     },
     "metadata": {},
     "output_type": "display_data"
    },
    {
     "data": {
      "application/vnd.jupyter.widget-view+json": {
       "model_id": "d5982aad4a2f460eabeae935531b95fd",
       "version_major": 2,
       "version_minor": 0
      },
      "text/plain": [
       "interactive(children=(IntSlider(value=63, description='z', max=126), Output()), _dom_classes=('widget-interact…"
      ]
     },
     "metadata": {},
     "output_type": "display_data"
    }
   ],
   "source": [
    "# show last subject\n",
    "print(f)\n",
    "volshow([vol['PET' ][:, 100:-100, 100:-100],\n",
    "         vol['uMap'][:, 100:-100, 100:-100],\n",
    "         vol['T1'  ][:, 100:-100, 100:-100],\n",
    "         vol['T2'  ][:, 100:-100, 100:-100]],\n",
    "        cmaps=['hot', 'bone', 'Greys_r', 'Greys_r'],\n",
    "        titles=[\"PET\", \"uMap\", \"T1\", \"T2\"],\n",
    "        frameon=False);"
   ]
  },
  {
   "cell_type": "code",
   "execution_count": 26,
   "metadata": {},
   "outputs": [
    {
     "data": {
      "application/vnd.jupyter.widget-view+json": {
       "model_id": "719f2cc62e6546d09b550274daf4f0d9",
       "version_major": 2,
       "version_minor": 0
      },
      "text/plain": [
       "Output()"
      ]
     },
     "metadata": {},
     "output_type": "display_data"
    },
    {
     "data": {
      "text/plain": [
       "<Figure size 432x288 with 0 Axes>"
      ]
     },
     "metadata": {},
     "output_type": "display_data"
    },
    {
     "data": {
      "application/vnd.jupyter.widget-view+json": {
       "model_id": "94723a3c79484591b909e483d46b26d4",
       "version_major": 2,
       "version_minor": 0
      },
      "text/plain": [
       "interactive(children=(IntSlider(value=63, description='z', max=126), Output()), _dom_classes=('widget-interact…"
      ]
     },
     "metadata": {},
     "output_type": "display_data"
    }
   ],
   "source": [
    "# add some lesions\n",
    "brainweb.seed(1337)\n",
    "im3d = brainweb.add_lesions(vol['T1'])\n",
    "volshow(im3d[:, 100:-100, 100:-100], cmaps=['hot']);"
   ]
  },
  {
   "cell_type": "markdown",
   "metadata": {},
   "source": [
    "### Only with T1, T2"
   ]
  },
  {
   "cell_type": "code",
   "execution_count": 25,
   "metadata": {},
   "outputs": [
    {
     "ename": "ModuleNotFoundError",
     "evalue": "No module named 'dipy'",
     "output_type": "error",
     "traceback": [
      "\u001b[0;31m---------------------------------------------------------------------------\u001b[0m",
      "\u001b[0;31mModuleNotFoundError\u001b[0m                       Traceback (most recent call last)",
      "\u001b[0;32m/tmp/ipykernel_50199/3903116079.py\u001b[0m in \u001b[0;36m<module>\u001b[0;34m\u001b[0m\n\u001b[1;32m      1\u001b[0m \u001b[0;31m# bonus: use brute-force registration to transform\u001b[0m\u001b[0;34m\u001b[0m\u001b[0;34m\u001b[0m\u001b[0;34m\u001b[0m\u001b[0m\n\u001b[1;32m      2\u001b[0m \u001b[0;31m#!pip install -U 'brainweb[register]'\u001b[0m\u001b[0;34m\u001b[0m\u001b[0;34m\u001b[0m\u001b[0;34m\u001b[0m\u001b[0m\n\u001b[0;32m----> 3\u001b[0;31m reg = brainweb.register(\n\u001b[0m\u001b[1;32m      4\u001b[0m     \u001b[0mdata\u001b[0m\u001b[0;34m[\u001b[0m\u001b[0;34m:\u001b[0m\u001b[0;34m,\u001b[0m \u001b[0;34m:\u001b[0m\u001b[0;34m:\u001b[0m\u001b[0;34m-\u001b[0m\u001b[0;36m1\u001b[0m\u001b[0;34m]\u001b[0m\u001b[0;34m,\u001b[0m \u001b[0mtarget\u001b[0m\u001b[0;34m=\u001b[0m\u001b[0mvol\u001b[0m\u001b[0;34m[\u001b[0m\u001b[0;34m'PET'\u001b[0m\u001b[0;34m]\u001b[0m\u001b[0;34m,\u001b[0m\u001b[0;34m\u001b[0m\u001b[0;34m\u001b[0m\u001b[0m\n\u001b[1;32m      5\u001b[0m     \u001b[0msrc_resolution\u001b[0m\u001b[0;34m=\u001b[0m\u001b[0mbrainweb\u001b[0m\u001b[0;34m.\u001b[0m\u001b[0mRes\u001b[0m\u001b[0;34m.\u001b[0m\u001b[0mbrainweb\u001b[0m\u001b[0;34m,\u001b[0m\u001b[0;34m\u001b[0m\u001b[0;34m\u001b[0m\u001b[0m\n",
      "\u001b[0;32m~/anaconda3/envs/agpu_env/lib/python3.8/site-packages/brainweb/utils.py\u001b[0m in \u001b[0;36mregister\u001b[0;34m(src, target, ROI, target_shape, src_resolution, target_resolution, method, src_offset, dtype)\u001b[0m\n\u001b[1;32m    618\u001b[0m       \u001b[0;34m[\u001b[0m\u001b[0mdefault\u001b[0m\u001b[0;34m:\u001b[0m \u001b[0;34m\"CoM\"\u001b[0m\u001b[0;34m]\u001b[0m  \u001b[0;34m:\u001b[0m \u001b[0mcentre\u001b[0m \u001b[0mof\u001b[0m \u001b[0mmass\u001b[0m\u001b[0;34m.\u001b[0m\u001b[0;34m\u001b[0m\u001b[0;34m\u001b[0m\u001b[0m\n\u001b[1;32m    619\u001b[0m     \"\"\"\n\u001b[0;32m--> 620\u001b[0;31m     \u001b[0;32mfrom\u001b[0m \u001b[0mdipy\u001b[0m\u001b[0;34m.\u001b[0m\u001b[0malign\u001b[0m\u001b[0;34m.\u001b[0m\u001b[0mimaffine\u001b[0m \u001b[0;32mimport\u001b[0m \u001b[0mAffineMap\u001b[0m\u001b[0;34m,\u001b[0m \u001b[0mtransform_centers_of_mass\u001b[0m\u001b[0;34m\u001b[0m\u001b[0;34m\u001b[0m\u001b[0m\n\u001b[0m\u001b[1;32m    621\u001b[0m \u001b[0;34m\u001b[0m\u001b[0m\n\u001b[1;32m    622\u001b[0m     \u001b[0;32massert\u001b[0m \u001b[0msrc\u001b[0m\u001b[0;34m.\u001b[0m\u001b[0mndim\u001b[0m \u001b[0;34m==\u001b[0m \u001b[0;36m3\u001b[0m\u001b[0;34m\u001b[0m\u001b[0;34m\u001b[0m\u001b[0m\n",
      "\u001b[0;31mModuleNotFoundError\u001b[0m: No module named 'dipy'"
     ]
    }
   ],
   "source": [
    "# bonus: use brute-force registration to transform\n",
    "#!pip install -U 'brainweb[register]'\n",
    "reg = brainweb.register(\n",
    "    data[:, ::-1], target=vol['PET'],\n",
    "    src_resolution=brainweb.Res.brainweb,\n",
    "    target_resolution=brainweb.Res.mMR)\n",
    "\n",
    "volshow({\n",
    "    \"PET\":    vol['PET'][:, 100:-100, 100:-100],\n",
    "    \"RawReg\": reg[       :, 100:-100, 100:-100],\n",
    "    \"T1\":     vol['T1' ][:, 100:-100, 100:-100],\n",
    "}, cmaps=['hot', 'gist_ncar', 'Greys_r'], ncols=3, tight_layout=5, figsize=(9.5, 3.5), frameon=False);"
   ]
  },
  {
   "cell_type": "markdown",
   "metadata": {},
   "source": [
    "## Concat T1 and T2 data"
   ]
  },
  {
   "cell_type": "code",
   "execution_count": 8,
   "metadata": {},
   "outputs": [
    {
     "data": {
      "application/vnd.jupyter.widget-view+json": {
       "model_id": "b7da3bf505fe4a609b13b9921cbcec7d",
       "version_major": 2,
       "version_minor": 0
      },
      "text/plain": [
       "BrainWeb Subjects:   0%|          | 0/20 [00:00<?, ?file/s]"
      ]
     },
     "metadata": {},
     "output_type": "display_data"
    },
    {
     "data": {
      "application/vnd.jupyter.widget-view+json": {
       "model_id": "3935fee77cc14c37bff7c082c1039bcd",
       "version_major": 2,
       "version_minor": 0
      },
      "text/plain": [
       "mMR ground truths:   0%|          | 0/20 [00:00<?, ?subject/s]"
      ]
     },
     "metadata": {},
     "output_type": "display_data"
    },
    {
     "name": "stdout",
     "output_type": "stream",
     "text": [
      "/mnt/ssd/jj/.brainweb/subject_04.bin.gz\n",
      "/mnt/ssd/jj/.brainweb/subject_05.bin.gz\n",
      "/mnt/ssd/jj/.brainweb/subject_06.bin.gz\n",
      "/mnt/ssd/jj/.brainweb/subject_18.bin.gz\n",
      "/mnt/ssd/jj/.brainweb/subject_20.bin.gz\n",
      "/mnt/ssd/jj/.brainweb/subject_38.bin.gz\n",
      "/mnt/ssd/jj/.brainweb/subject_41.bin.gz\n",
      "/mnt/ssd/jj/.brainweb/subject_42.bin.gz\n",
      "/mnt/ssd/jj/.brainweb/subject_43.bin.gz\n",
      "/mnt/ssd/jj/.brainweb/subject_44.bin.gz\n",
      "/mnt/ssd/jj/.brainweb/subject_45.bin.gz\n",
      "/mnt/ssd/jj/.brainweb/subject_46.bin.gz\n",
      "/mnt/ssd/jj/.brainweb/subject_47.bin.gz\n",
      "/mnt/ssd/jj/.brainweb/subject_48.bin.gz\n",
      "/mnt/ssd/jj/.brainweb/subject_49.bin.gz\n",
      "/mnt/ssd/jj/.brainweb/subject_50.bin.gz\n",
      "/mnt/ssd/jj/.brainweb/subject_51.bin.gz\n",
      "/mnt/ssd/jj/.brainweb/subject_52.bin.gz\n",
      "/mnt/ssd/jj/.brainweb/subject_53.bin.gz\n",
      "/mnt/ssd/jj/.brainweb/subject_54.bin.gz\n"
     ]
    }
   ],
   "source": [
    "%matplotlib inline\n",
    "# download\n",
    "files = brainweb.get_files()\n",
    "\n",
    "# read last file\n",
    "data = brainweb.load_file(files[-1])\n",
    "\n",
    "for f in tqdm(files, desc=\"mMR ground truths\", unit=\"subject\"):\n",
    "    print(f)\n"
   ]
  },
  {
   "cell_type": "code",
   "execution_count": 9,
   "metadata": {},
   "outputs": [
    {
     "data": {
      "application/vnd.jupyter.widget-view+json": {
       "model_id": "f6a4bc92ec3f41eb90d9b0b92dbe2936",
       "version_major": 2,
       "version_minor": 0
      },
      "text/plain": [
       "mMR ground truths:   0%|          | 0/20 [00:00<?, ?subject/s]"
      ]
     },
     "metadata": {},
     "output_type": "display_data"
    },
    {
     "name": "stdout",
     "output_type": "stream",
     "text": [
      "/mnt/ssd/jj/.brainweb/subject_04.bin.gz\n",
      "(1, 254, 144, 144)\n",
      "/mnt/ssd/jj/.brainweb/subject_05.bin.gz\n",
      "(2, 254, 144, 144)\n",
      "/mnt/ssd/jj/.brainweb/subject_06.bin.gz\n",
      "(3, 254, 144, 144)\n",
      "/mnt/ssd/jj/.brainweb/subject_18.bin.gz\n",
      "(4, 254, 144, 144)\n",
      "/mnt/ssd/jj/.brainweb/subject_20.bin.gz\n",
      "(5, 254, 144, 144)\n",
      "/mnt/ssd/jj/.brainweb/subject_38.bin.gz\n",
      "(6, 254, 144, 144)\n",
      "/mnt/ssd/jj/.brainweb/subject_41.bin.gz\n",
      "(7, 254, 144, 144)\n",
      "/mnt/ssd/jj/.brainweb/subject_42.bin.gz\n",
      "(8, 254, 144, 144)\n",
      "/mnt/ssd/jj/.brainweb/subject_43.bin.gz\n",
      "(9, 254, 144, 144)\n",
      "/mnt/ssd/jj/.brainweb/subject_44.bin.gz\n",
      "(10, 254, 144, 144)\n",
      "/mnt/ssd/jj/.brainweb/subject_45.bin.gz\n",
      "(11, 254, 144, 144)\n",
      "/mnt/ssd/jj/.brainweb/subject_46.bin.gz\n",
      "(12, 254, 144, 144)\n",
      "/mnt/ssd/jj/.brainweb/subject_47.bin.gz\n",
      "(13, 254, 144, 144)\n",
      "/mnt/ssd/jj/.brainweb/subject_48.bin.gz\n",
      "(14, 254, 144, 144)\n",
      "/mnt/ssd/jj/.brainweb/subject_49.bin.gz\n",
      "(15, 254, 144, 144)\n",
      "/mnt/ssd/jj/.brainweb/subject_50.bin.gz\n",
      "(16, 254, 144, 144)\n",
      "/mnt/ssd/jj/.brainweb/subject_51.bin.gz\n",
      "(17, 254, 144, 144)\n",
      "/mnt/ssd/jj/.brainweb/subject_52.bin.gz\n",
      "(18, 254, 144, 144)\n",
      "/mnt/ssd/jj/.brainweb/subject_53.bin.gz\n",
      "(19, 254, 144, 144)\n",
      "/mnt/ssd/jj/.brainweb/subject_54.bin.gz\n",
      "(20, 254, 144, 144)\n"
     ]
    }
   ],
   "source": [
    "brainweb.seed(1337)\n",
    "stack = None\n",
    "\n",
    "\n",
    "for f in tqdm(files, desc=\"mMR ground truths\", unit=\"subject\"):\n",
    "    vol = brainweb.get_mmr_fromfile(\n",
    "        f,\n",
    "        petNoise=1, t1Noise=0.75, t2Noise=0.75,\n",
    "        petSigma=1, t1Sigma=1, t2Sigma=1,)\n",
    "\n",
    "    t1=vol['T1'][:, 100:-100, 100:-100]\n",
    "    t2=vol['T2'][:, 100:-100, 100:-100]\n",
    "\n",
    "    if stack is None:\n",
    "        stack = np.concatenate((np.expand_dims(t1, 0), np.expand_dims(t2, 0)), axis=1)\n",
    "\n",
    "    else:\n",
    "        stack = np.concatenate((stack, np.concatenate((np.expand_dims(t1, 0), np.expand_dims(t2, 0)), axis=1)))\n",
    "    print(stack.shape)\n"
   ]
  },
  {
   "cell_type": "markdown",
   "metadata": {},
   "source": [
    "### Why cut??"
   ]
  },
  {
   "cell_type": "code",
   "execution_count": 12,
   "metadata": {},
   "outputs": [
    {
     "data": {
      "application/vnd.jupyter.widget-view+json": {
       "model_id": "5cee9d7d130542cab872d62c7ad2b2e7",
       "version_major": 2,
       "version_minor": 0
      },
      "text/plain": [
       "Output()"
      ]
     },
     "metadata": {},
     "output_type": "display_data"
    },
    {
     "data": {
      "text/plain": [
       "<Figure size 432x288 with 0 Axes>"
      ]
     },
     "metadata": {},
     "output_type": "display_data"
    },
    {
     "data": {
      "application/vnd.jupyter.widget-view+json": {
       "model_id": "a80625d7b4a74282805c90d6cf30adda",
       "version_major": 2,
       "version_minor": 0
      },
      "text/plain": [
       "interactive(children=(IntSlider(value=63, description='z', max=126), Output()), _dom_classes=('widget-interact…"
      ]
     },
     "metadata": {},
     "output_type": "display_data"
    },
    {
     "data": {
      "application/vnd.jupyter.widget-view+json": {
       "model_id": "f2db4e8de87145a09a908296a9366b7b",
       "version_major": 2,
       "version_minor": 0
      },
      "text/plain": [
       "Output()"
      ]
     },
     "metadata": {},
     "output_type": "display_data"
    },
    {
     "data": {
      "text/plain": [
       "<Figure size 432x288 with 0 Axes>"
      ]
     },
     "metadata": {},
     "output_type": "display_data"
    },
    {
     "data": {
      "application/vnd.jupyter.widget-view+json": {
       "model_id": "6c6c615a3c5b4129beeeb18543b8b109",
       "version_major": 2,
       "version_minor": 0
      },
      "text/plain": [
       "interactive(children=(IntSlider(value=63, description='z', max=126), Output()), _dom_classes=('widget-interact…"
      ]
     },
     "metadata": {},
     "output_type": "display_data"
    },
    {
     "data": {
      "text/plain": [
       "<function brainweb.utils.volshow.<locals>.plot_slice(z)>"
      ]
     },
     "execution_count": 12,
     "metadata": {},
     "output_type": "execute_result"
    }
   ],
   "source": [
    "print(vol['T1'].shape)\n",
    "print(vol['T1'][:, 100:-100, 100:-100].shape)\n",
    "volshow(vol['T1'][:, 100:-100, 100:-100], cmaps=['hot'])\n",
    "volshow(vol['T1'], cmaps=['hot'])"
   ]
  },
  {
   "cell_type": "code",
   "execution_count": 10,
   "metadata": {},
   "outputs": [
    {
     "data": {
      "text/plain": [
       "(127, 144, 144)"
      ]
     },
     "execution_count": 10,
     "metadata": {},
     "output_type": "execute_result"
    }
   ],
   "source": []
  },
  {
   "cell_type": "code",
   "execution_count": null,
   "metadata": {},
   "outputs": [],
   "source": []
  }
 ],
 "metadata": {
  "interpreter": {
   "hash": "ff9aafc433d38ddfe46b37a91d30c30371be83f4e9cfbc6fdf4893ec8c29dafc"
  },
  "kernelspec": {
   "display_name": "Python 3.8.11 ('j_env')",
   "language": "python",
   "name": "python3"
  },
  "language_info": {
   "codemirror_mode": {
    "name": "ipython",
    "version": 3
   },
   "file_extension": ".py",
   "mimetype": "text/x-python",
   "name": "python",
   "nbconvert_exporter": "python",
   "pygments_lexer": "ipython3",
   "version": "3.8.11"
  },
  "orig_nbformat": 4
 },
 "nbformat": 4,
 "nbformat_minor": 2
}
